{
 "cells": [
  {
   "cell_type": "code",
   "execution_count": 16,
   "metadata": {},
   "outputs": [
    {
     "name": "stdout",
     "output_type": "stream",
     "text": [
      "{'type': 'Polygon', 'coordinates': [[[-0.039036, 51.458234], [-0.039064, 51.457591], [-0.038407, 51.45758], [-0.03838, 51.458223], [-0.039036, 51.458234]]]}\n"
     ]
    }
   ],
   "source": [
    "import rasterio\n",
    "import rasterio.features\n",
    "import rasterio.warp\n",
    "\n",
    "with rasterio.open('dataset/raster_data/357.tif') as dataset:\n",
    "\n",
    "    # Read the dataset's valid data mask as a ndarray.\n",
    "    mask = dataset.dataset_mask()\n",
    "\n",
    "    # Extract feature shapes and values from the array.\n",
    "    for geom, val in rasterio.features.shapes(\n",
    "            mask, transform=dataset.transform):\n",
    "\n",
    "        # Transform shapes from the dataset's own coordinate\n",
    "        # reference system to CRS84 (EPSG:4326).\n",
    "        geom = rasterio.warp.transform_geom(\n",
    "            dataset.crs, 'EPSG:4326', geom, precision=6)\n",
    "\n",
    "        # Print GeoJSON shapes to stdout.\n",
    "        print(geom)"
   ]
  },
  {
   "cell_type": "code",
   "execution_count": 17,
   "metadata": {},
   "outputs": [
    {
     "data": {
      "text/plain": [
       "Options(\n",
       "  display_precision: None [default: None]\n",
       "      The precision (maximum number of decimals) of the coordinates in the\n",
       "      WKT representation in the Series/DataFrame display. By default (None),\n",
       "      it tries to infer and use 3 decimals for projected coordinates and 5\n",
       "      decimals for geographic coordinates.\n",
       "  use_pygeos: False [default: False]\n",
       "      Whether to use PyGEOS to speed up spatial operations. The default is\n",
       "      True if PyGEOS is installed, and follows the USE_PYGEOS environment\n",
       "      variable if set.\n",
       "  )"
      ]
     },
     "execution_count": 17,
     "metadata": {},
     "output_type": "execute_result"
    }
   ],
   "source": [
    "import geopandas\n",
    "df = geopandas.read_file('dataset/shapefile_data/357/357_polygons.shp')\n",
    "# df.plot()\n",
    "geopandas.options\n",
    "# create - read shapefile and post in psql, \n",
    "# read - retrieve shapefile from psql, we can use read_postgis here\n",
    "# update - update a particular shapefile in psql, but how, we can update rows and columns also.. depends - to_postgis maybe??\n",
    "# delete - delete a shapefile from psql - easy tasks.. - simple drop? \n"
   ]
  },
  {
   "cell_type": "code",
   "execution_count": 18,
   "metadata": {},
   "outputs": [
    {
     "name": "stdout",
     "output_type": "stream",
     "text": [
      "hello\n"
     ]
    }
   ],
   "source": [
    "print('hello')"
   ]
  }
 ],
 "metadata": {
  "kernelspec": {
   "display_name": "Python 3",
   "language": "python",
   "name": "python3"
  },
  "language_info": {
   "codemirror_mode": {
    "name": "ipython",
    "version": 3
   },
   "file_extension": ".py",
   "mimetype": "text/x-python",
   "name": "python",
   "nbconvert_exporter": "python",
   "pygments_lexer": "ipython3",
   "version": "3.11.2"
  },
  "orig_nbformat": 4,
  "vscode": {
   "interpreter": {
    "hash": "b0fa6594d8f4cbf19f97940f81e996739fb7646882a419484c72d19e05852a7e"
   }
  }
 },
 "nbformat": 4,
 "nbformat_minor": 2
}
